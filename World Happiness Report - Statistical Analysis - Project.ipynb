{
 "cells": [
  {
   "cell_type": "markdown",
   "metadata": {},
   "source": [
    "#### The happiness scores and rankings use data from the Gallup World Poll . The columns following the happiness score estimate the extent to which each of six factors – economic production, social support, life expectancy, freedom, absence of corruption, and generosity – contribute to making life evaluations higher in each country.\n",
    "\n",
    "### Key Features in 'world-happiness-report': \n",
    "\n",
    "1.\tLadder score: It is the score for happiness and liveability. The high ladder score represents the best possible life for you and low ladder score represents the worst possible life for you.\n",
    "2.\tLogged GDP per capita: It shows how much economic production value can be attributed to each individual citizen. Alternatively, this translates to a measure of national wealth since GDP market value per person also readily serves as a prosperity measure.\n",
    "3.\tSocial support: It is defined in terms of social network characteristics such as assistance from family, friends, neighbours and other community members.\n",
    "4.\tHealthy life expectancy at birth: Healthy life expectancy is the average life in good health - that is to say without irreversible limitation of activity in daily life or incapacities - of a fictitious generation subject to the conditions of mortality and morbidity prevailing that year\n",
    "5.\tFreedom to make life choices: Freedom of choice describes an individual's opportunity and autonomy to perform an action selected from at least two available options, unconstrained by external parties.\n",
    "6.\tGenerosity Generosity is the virtue of being liberal in giving, often as gifts.\n",
    "7.\tPerceptions of corruption: Corruption is a form of dishonesty or criminal offense undertaken by a person or organization entrusted with a position of authority, to acquire illicit benefit\n",
    "\n",
    "\n",
    "- While a happiness report or rank might seem trivial, it is this type of data that points to our development policies and the people’s perception of how their governments perform.\n",
    "\n",
    "- The report also helps in pointing out the importance of qualitative development rather than quantitative. It takes into consideration what people really think about topics such as women’s rights, corruption rates, fundamental rights and more. In a way, it is one of the most important reports for a developing economy like India.\n",
    "\n",
    "### Data Preparation and EDA"
   ]
  },
  {
   "cell_type": "code",
   "execution_count": 3,
   "metadata": {},
   "outputs": [],
   "source": [
    "import pandas as pd\n",
    "import numpy as np\n",
    "%matplotlib inline\n",
    "import matplotlib.pyplot as plt\n",
    "import seaborn as sns"
   ]
  },
  {
   "cell_type": "code",
   "execution_count": 4,
   "metadata": {},
   "outputs": [],
   "source": [
    "data = pd.read_csv(\"Final_Combined_File.csv\")"
   ]
  },
  {
   "cell_type": "code",
   "execution_count": 19,
   "metadata": {},
   "outputs": [
    {
     "data": {
      "text/html": [
       "<div>\n",
       "<style scoped>\n",
       "    .dataframe tbody tr th:only-of-type {\n",
       "        vertical-align: middle;\n",
       "    }\n",
       "\n",
       "    .dataframe tbody tr th {\n",
       "        vertical-align: top;\n",
       "    }\n",
       "\n",
       "    .dataframe thead th {\n",
       "        text-align: right;\n",
       "    }\n",
       "</style>\n",
       "<table border=\"1\" class=\"dataframe\">\n",
       "  <thead>\n",
       "    <tr style=\"text-align: right;\">\n",
       "      <th></th>\n",
       "      <th>Country name</th>\n",
       "      <th>year</th>\n",
       "      <th>Ladder score</th>\n",
       "      <th>Logged GDP per capita</th>\n",
       "      <th>Social support</th>\n",
       "      <th>Healthy life expectancy at birth</th>\n",
       "      <th>Freedom to make life choices</th>\n",
       "      <th>Generosity</th>\n",
       "      <th>Perceptions of corruption</th>\n",
       "      <th>Regional indicator</th>\n",
       "    </tr>\n",
       "  </thead>\n",
       "  <tbody>\n",
       "    <tr>\n",
       "      <th>0</th>\n",
       "      <td>Afghanistan</td>\n",
       "      <td>2008</td>\n",
       "      <td>3.724</td>\n",
       "      <td>7.370</td>\n",
       "      <td>0.451</td>\n",
       "      <td>50.80</td>\n",
       "      <td>0.718</td>\n",
       "      <td>0.168</td>\n",
       "      <td>0.882</td>\n",
       "      <td>South Asia</td>\n",
       "    </tr>\n",
       "    <tr>\n",
       "      <th>1</th>\n",
       "      <td>Afghanistan</td>\n",
       "      <td>2009</td>\n",
       "      <td>4.402</td>\n",
       "      <td>7.540</td>\n",
       "      <td>0.552</td>\n",
       "      <td>51.20</td>\n",
       "      <td>0.679</td>\n",
       "      <td>0.190</td>\n",
       "      <td>0.850</td>\n",
       "      <td>South Asia</td>\n",
       "    </tr>\n",
       "    <tr>\n",
       "      <th>2</th>\n",
       "      <td>Afghanistan</td>\n",
       "      <td>2010</td>\n",
       "      <td>4.758</td>\n",
       "      <td>7.647</td>\n",
       "      <td>0.539</td>\n",
       "      <td>51.60</td>\n",
       "      <td>0.600</td>\n",
       "      <td>0.121</td>\n",
       "      <td>0.707</td>\n",
       "      <td>South Asia</td>\n",
       "    </tr>\n",
       "    <tr>\n",
       "      <th>3</th>\n",
       "      <td>Afghanistan</td>\n",
       "      <td>2011</td>\n",
       "      <td>3.832</td>\n",
       "      <td>7.620</td>\n",
       "      <td>0.521</td>\n",
       "      <td>51.92</td>\n",
       "      <td>0.496</td>\n",
       "      <td>0.162</td>\n",
       "      <td>0.731</td>\n",
       "      <td>South Asia</td>\n",
       "    </tr>\n",
       "    <tr>\n",
       "      <th>4</th>\n",
       "      <td>Afghanistan</td>\n",
       "      <td>2012</td>\n",
       "      <td>3.783</td>\n",
       "      <td>7.705</td>\n",
       "      <td>0.521</td>\n",
       "      <td>52.24</td>\n",
       "      <td>0.531</td>\n",
       "      <td>0.236</td>\n",
       "      <td>0.776</td>\n",
       "      <td>South Asia</td>\n",
       "    </tr>\n",
       "  </tbody>\n",
       "</table>\n",
       "</div>"
      ],
      "text/plain": [
       "  Country name  year  Ladder score  Logged GDP per capita  Social support  \\\n",
       "0  Afghanistan  2008         3.724                  7.370           0.451   \n",
       "1  Afghanistan  2009         4.402                  7.540           0.552   \n",
       "2  Afghanistan  2010         4.758                  7.647           0.539   \n",
       "3  Afghanistan  2011         3.832                  7.620           0.521   \n",
       "4  Afghanistan  2012         3.783                  7.705           0.521   \n",
       "\n",
       "   Healthy life expectancy at birth  Freedom to make life choices  Generosity  \\\n",
       "0                             50.80                         0.718       0.168   \n",
       "1                             51.20                         0.679       0.190   \n",
       "2                             51.60                         0.600       0.121   \n",
       "3                             51.92                         0.496       0.162   \n",
       "4                             52.24                         0.531       0.236   \n",
       "\n",
       "   Perceptions of corruption Regional indicator  \n",
       "0                      0.882         South Asia  \n",
       "1                      0.850         South Asia  \n",
       "2                      0.707         South Asia  \n",
       "3                      0.731         South Asia  \n",
       "4                      0.776         South Asia  "
      ]
     },
     "execution_count": 19,
     "metadata": {},
     "output_type": "execute_result"
    }
   ],
   "source": [
    "data.head()"
   ]
  },
  {
   "cell_type": "code",
   "execution_count": 20,
   "metadata": {},
   "outputs": [
    {
     "data": {
      "text/html": [
       "<div>\n",
       "<style scoped>\n",
       "    .dataframe tbody tr th:only-of-type {\n",
       "        vertical-align: middle;\n",
       "    }\n",
       "\n",
       "    .dataframe tbody tr th {\n",
       "        vertical-align: top;\n",
       "    }\n",
       "\n",
       "    .dataframe thead th {\n",
       "        text-align: right;\n",
       "    }\n",
       "</style>\n",
       "<table border=\"1\" class=\"dataframe\">\n",
       "  <thead>\n",
       "    <tr style=\"text-align: right;\">\n",
       "      <th></th>\n",
       "      <th>year</th>\n",
       "      <th>Ladder score</th>\n",
       "      <th>Logged GDP per capita</th>\n",
       "      <th>Social support</th>\n",
       "      <th>Healthy life expectancy at birth</th>\n",
       "      <th>Freedom to make life choices</th>\n",
       "      <th>Generosity</th>\n",
       "      <th>Perceptions of corruption</th>\n",
       "    </tr>\n",
       "  </thead>\n",
       "  <tbody>\n",
       "    <tr>\n",
       "      <th>count</th>\n",
       "      <td>1861.000000</td>\n",
       "      <td>1861.000000</td>\n",
       "      <td>1861.000000</td>\n",
       "      <td>1861.000000</td>\n",
       "      <td>1861.000000</td>\n",
       "      <td>1861.000000</td>\n",
       "      <td>1861.000000</td>\n",
       "      <td>1861.000000</td>\n",
       "    </tr>\n",
       "    <tr>\n",
       "      <th>mean</th>\n",
       "      <td>2013.896830</td>\n",
       "      <td>5.452041</td>\n",
       "      <td>9.328915</td>\n",
       "      <td>0.810520</td>\n",
       "      <td>63.360022</td>\n",
       "      <td>0.743653</td>\n",
       "      <td>-0.001872</td>\n",
       "      <td>0.749219</td>\n",
       "    </tr>\n",
       "    <tr>\n",
       "      <th>std</th>\n",
       "      <td>4.437147</td>\n",
       "      <td>1.131143</td>\n",
       "      <td>1.158199</td>\n",
       "      <td>0.121138</td>\n",
       "      <td>7.624643</td>\n",
       "      <td>0.141286</td>\n",
       "      <td>0.161176</td>\n",
       "      <td>0.185398</td>\n",
       "    </tr>\n",
       "    <tr>\n",
       "      <th>min</th>\n",
       "      <td>2005.000000</td>\n",
       "      <td>2.375000</td>\n",
       "      <td>6.635000</td>\n",
       "      <td>0.290000</td>\n",
       "      <td>32.300000</td>\n",
       "      <td>0.258000</td>\n",
       "      <td>-0.335000</td>\n",
       "      <td>0.035000</td>\n",
       "    </tr>\n",
       "    <tr>\n",
       "      <th>25%</th>\n",
       "      <td>2010.000000</td>\n",
       "      <td>4.609000</td>\n",
       "      <td>8.399000</td>\n",
       "      <td>0.741000</td>\n",
       "      <td>58.300000</td>\n",
       "      <td>0.649000</td>\n",
       "      <td>-0.112000</td>\n",
       "      <td>0.695000</td>\n",
       "    </tr>\n",
       "    <tr>\n",
       "      <th>50%</th>\n",
       "      <td>2014.000000</td>\n",
       "      <td>5.371000</td>\n",
       "      <td>9.460000</td>\n",
       "      <td>0.834000</td>\n",
       "      <td>65.200000</td>\n",
       "      <td>0.763000</td>\n",
       "      <td>-0.027000</td>\n",
       "      <td>0.804000</td>\n",
       "    </tr>\n",
       "    <tr>\n",
       "      <th>75%</th>\n",
       "      <td>2018.000000</td>\n",
       "      <td>6.255000</td>\n",
       "      <td>10.291000</td>\n",
       "      <td>0.907000</td>\n",
       "      <td>68.800000</td>\n",
       "      <td>0.857000</td>\n",
       "      <td>0.088000</td>\n",
       "      <td>0.871000</td>\n",
       "    </tr>\n",
       "    <tr>\n",
       "      <th>max</th>\n",
       "      <td>2021.000000</td>\n",
       "      <td>7.971000</td>\n",
       "      <td>11.648000</td>\n",
       "      <td>0.987000</td>\n",
       "      <td>77.100000</td>\n",
       "      <td>0.985000</td>\n",
       "      <td>0.689000</td>\n",
       "      <td>0.983000</td>\n",
       "    </tr>\n",
       "  </tbody>\n",
       "</table>\n",
       "</div>"
      ],
      "text/plain": [
       "              year  Ladder score  Logged GDP per capita  Social support  \\\n",
       "count  1861.000000   1861.000000            1861.000000     1861.000000   \n",
       "mean   2013.896830      5.452041               9.328915        0.810520   \n",
       "std       4.437147      1.131143               1.158199        0.121138   \n",
       "min    2005.000000      2.375000               6.635000        0.290000   \n",
       "25%    2010.000000      4.609000               8.399000        0.741000   \n",
       "50%    2014.000000      5.371000               9.460000        0.834000   \n",
       "75%    2018.000000      6.255000              10.291000        0.907000   \n",
       "max    2021.000000      7.971000              11.648000        0.987000   \n",
       "\n",
       "       Healthy life expectancy at birth  Freedom to make life choices  \\\n",
       "count                       1861.000000                   1861.000000   \n",
       "mean                          63.360022                      0.743653   \n",
       "std                            7.624643                      0.141286   \n",
       "min                           32.300000                      0.258000   \n",
       "25%                           58.300000                      0.649000   \n",
       "50%                           65.200000                      0.763000   \n",
       "75%                           68.800000                      0.857000   \n",
       "max                           77.100000                      0.985000   \n",
       "\n",
       "        Generosity  Perceptions of corruption  \n",
       "count  1861.000000                1861.000000  \n",
       "mean     -0.001872                   0.749219  \n",
       "std       0.161176                   0.185398  \n",
       "min      -0.335000                   0.035000  \n",
       "25%      -0.112000                   0.695000  \n",
       "50%      -0.027000                   0.804000  \n",
       "75%       0.088000                   0.871000  \n",
       "max       0.689000                   0.983000  "
      ]
     },
     "execution_count": 20,
     "metadata": {},
     "output_type": "execute_result"
    }
   ],
   "source": [
    "data.describe()"
   ]
  },
  {
   "cell_type": "code",
   "execution_count": 21,
   "metadata": {},
   "outputs": [],
   "source": [
    "reg = data[[\"Regional indicator\", \"Ladder score\"]].groupby(\"Regional indicator\", as_index=False).mean().sort_values(by=\"Ladder score\", ascending=False)"
   ]
  },
  {
   "cell_type": "code",
   "execution_count": 22,
   "metadata": {},
   "outputs": [
    {
     "data": {
      "image/png": "[encoded data removed]",
      "text/plain": [
       "<Figure size 792x288 with 1 Axes>"
      ]
     },
     "metadata": {
      "needs_background": "light"
     },
     "output_type": "display_data"
    }
   ],
   "source": [
    "# Average Ladder score VS Regional indicator\n",
    "plt.figure(figsize =(11,4))\n",
    "sns.barplot(x= \"Regional indicator\", y = \"Ladder score\" , data=reg)\n",
    "plt.title(\"Regional indicator VS Ladder score\");\n",
    "plt.xlabel(\"Regional indicator\")\n",
    "plt.ylabel(\"Average Ladder score\");\n",
    "plt.xticks(rotation=90);"
   ]
  },
  {
   "cell_type": "markdown",
   "metadata": {},
   "source": [
    "#### South Asia and Sub-Saharan Africa have the lower mean ladder score of happiness while North America and ANZ region has the highest score."
   ]
  },
  {
   "cell_type": "markdown",
   "metadata": {},
   "source": [
    "### Comparing India with country with max ladder score, median ladder score, and lowest ladder score to understand the difference"
   ]
  },
  {
   "cell_type": "code",
   "execution_count": 12,
   "metadata": {},
   "outputs": [],
   "source": [
    "highest = data[data[\"Ladder score\"] ==data[\"Ladder score\"].max()]\n",
    "lowest = data[data[\"Ladder score\"] ==data[\"Ladder score\"].min()]\n",
    "avg = data[data[\"Ladder score\"] ==data[\"Ladder score\"].median()]\n",
    "ind = data[data[\"Country name\"]==\"India\"]"
   ]
  },
  {
   "cell_type": "code",
   "execution_count": 13,
   "metadata": {},
   "outputs": [],
   "source": [
    "comp = pd.concat([highest, avg, ind, lowest])"
   ]
  },
  {
   "cell_type": "code",
   "execution_count": 16,
   "metadata": {},
   "outputs": [
    {
     "data": {
      "text/html": [
       "<div>\n",
       "<style scoped>\n",
       "    .dataframe tbody tr th:only-of-type {\n",
       "        vertical-align: middle;\n",
       "    }\n",
       "\n",
       "    .dataframe tbody tr th {\n",
       "        vertical-align: top;\n",
       "    }\n",
       "\n",
       "    .dataframe thead th {\n",
       "        text-align: right;\n",
       "    }\n",
       "</style>\n",
       "<table border=\"1\" class=\"dataframe\">\n",
       "  <thead>\n",
       "    <tr style=\"text-align: right;\">\n",
       "      <th></th>\n",
       "      <th>Country name</th>\n",
       "      <th>year</th>\n",
       "      <th>Ladder score</th>\n",
       "      <th>Logged GDP per capita</th>\n",
       "      <th>Social support</th>\n",
       "      <th>Healthy life expectancy at birth</th>\n",
       "      <th>Freedom to make life choices</th>\n",
       "      <th>Generosity</th>\n",
       "      <th>Perceptions of corruption</th>\n",
       "      <th>Regional indicator</th>\n",
       "    </tr>\n",
       "  </thead>\n",
       "  <tbody>\n",
       "    <tr>\n",
       "      <th>413</th>\n",
       "      <td>Denmark</td>\n",
       "      <td>2008</td>\n",
       "      <td>7.971</td>\n",
       "      <td>10.88</td>\n",
       "      <td>0.954</td>\n",
       "      <td>70.08</td>\n",
       "      <td>0.970</td>\n",
       "      <td>0.272</td>\n",
       "      <td>0.248</td>\n",
       "      <td>Western Europe</td>\n",
       "    </tr>\n",
       "    <tr>\n",
       "      <th>482</th>\n",
       "      <td>Estonia</td>\n",
       "      <td>2006</td>\n",
       "      <td>5.371</td>\n",
       "      <td>10.27</td>\n",
       "      <td>0.910</td>\n",
       "      <td>64.86</td>\n",
       "      <td>0.749</td>\n",
       "      <td>-0.264</td>\n",
       "      <td>0.797</td>\n",
       "      <td>Central and Eastern Europe</td>\n",
       "    </tr>\n",
       "  </tbody>\n",
       "</table>\n",
       "</div>"
      ],
      "text/plain": [
       "    Country name  year  Ladder score  Logged GDP per capita  Social support  \\\n",
       "413      Denmark  2008         7.971                  10.88           0.954   \n",
       "482      Estonia  2006         5.371                  10.27           0.910   \n",
       "\n",
       "     Healthy life expectancy at birth  Freedom to make life choices  \\\n",
       "413                             70.08                         0.970   \n",
       "482                             64.86                         0.749   \n",
       "\n",
       "     Generosity  Perceptions of corruption          Regional indicator  \n",
       "413       0.272                      0.248              Western Europe  \n",
       "482      -0.264                      0.797  Central and Eastern Europe  "
      ]
     },
     "execution_count": 16,
     "metadata": {},
     "output_type": "execute_result"
    }
   ],
   "source": [
    "comp.head(2)"
   ]
  },
  {
   "cell_type": "code",
   "execution_count": 17,
   "metadata": {},
   "outputs": [
    {
     "data": {
      "image/png": "[encoded data removed]",
      "text/plain": [
       "<Figure size 1296x720 with 6 Axes>"
      ]
     },
     "metadata": {
      "needs_background": "light"
     },
     "output_type": "display_data"
    }
   ],
   "source": [
    "fig, ax = plt.subplots(nrows =2, ncols=3, figsize=(18,10))\n",
    "sns.barplot(x = comp[\"Country name\"], y = comp[\"Ladder score\"], ax=ax[0,0])\n",
    "sns.barplot(x = comp[\"Country name\"], y = comp[\"Logged GDP per capita\"], ax=ax[0,1])\n",
    "sns.barplot(x = comp[\"Country name\"], y = comp[\"Social support\"], ax=ax[0,2])\n",
    "sns.barplot(x = comp[\"Country name\"], y = comp[\"Healthy life expectancy at birth\"], ax=ax[1,0])\n",
    "sns.barplot(x = comp[\"Country name\"], y = comp[\"Freedom to make life choices\"], ax=ax[1,1])\n",
    "sns.barplot(x = comp[\"Country name\"], y = comp[\"Generosity\"], ax=ax[1,2]);"
   ]
  },
  {
   "cell_type": "code",
   "execution_count": 18,
   "metadata": {},
   "outputs": [
    {
     "data": {
      "image/png": "[encoded data removed]",
      "text/plain": [
       "<Figure size 720x432 with 2 Axes>"
      ]
     },
     "metadata": {
      "needs_background": "light"
     },
     "output_type": "display_data"
    }
   ],
   "source": [
    "# Heatmap to show correlation between variables\n",
    "fig, ax = plt.subplots(figsize = [10,6])\n",
    "sns.heatmap(data.corr(), annot= True, cmap = \"YlGnBu\");"
   ]
  },
  {
   "cell_type": "markdown",
   "metadata": {},
   "source": [
    "## Hypothesis test"
   ]
  },
  {
   "cell_type": "markdown",
   "metadata": {},
   "source": [
    "#### - Dividing GDP into 2 gategories based on median value: High (>9.46000) and Low (<9.46000) and then conducting hypothesis test for perception of corrptions, social support, freedom to make life choices and life expectancy at birth by diving these data into 2 samples filtered on each GDP category\n"
   ]
  },
  {
   "cell_type": "code",
   "execution_count": 4,
   "metadata": {},
   "outputs": [],
   "source": [
    "import pandas as pd\n",
    "from scipy import stats\n",
    "from statsmodels.stats import weightstats as stests"
   ]
  },
  {
   "cell_type": "code",
   "execution_count": 46,
   "metadata": {},
   "outputs": [
    {
     "name": "stdout",
     "output_type": "stream",
     "text": [
      "<class 'pandas.core.frame.DataFrame'>\n",
      "RangeIndex: 1861 entries, 0 to 1860\n",
      "Data columns (total 10 columns):\n",
      " #   Column                            Non-Null Count  Dtype  \n",
      "---  ------                            --------------  -----  \n",
      " 0   Country name                      1861 non-null   object \n",
      " 1   year                              1861 non-null   int64  \n",
      " 2   Ladder score                      1861 non-null   float64\n",
      " 3   Logged GDP per capita             1861 non-null   float64\n",
      " 4   Social support                    1861 non-null   float64\n",
      " 5   Healthy life expectancy at birth  1861 non-null   float64\n",
      " 6   Freedom to make life choices      1861 non-null   float64\n",
      " 7   Generosity                        1861 non-null   float64\n",
      " 8   Perceptions of corruption         1861 non-null   float64\n",
      " 9   Regional indicator                1861 non-null   object \n",
      "dtypes: float64(7), int64(1), object(2)\n",
      "memory usage: 145.5+ KB\n"
     ]
    }
   ],
   "source": [
    "data.info()"
   ]
  },
  {
   "cell_type": "markdown",
   "metadata": {},
   "source": [
    "#### Life Expectancy at birth and GDP T - test"
   ]
  },
  {
   "cell_type": "code",
   "execution_count": 47,
   "metadata": {},
   "outputs": [
    {
     "data": {
      "text/plain": [
       "(930, 929)"
      ]
     },
     "execution_count": 47,
     "metadata": {},
     "output_type": "execute_result"
    }
   ],
   "source": [
    "# Life Expectancy at birth\n",
    "life_lowG = data[data[\"Logged GDP per capita\"]<9.46000][\"Healthy life expectancy at birth\"]\n",
    "life_highG = data[data[\"Logged GDP per capita\"]>9.46000][\"Healthy life expectancy at birth\"]\n",
    "len(life_lowG) , len(life_highG)"
   ]
  },
  {
   "cell_type": "code",
   "execution_count": 52,
   "metadata": {},
   "outputs": [
    {
     "name": "stdout",
     "output_type": "stream",
     "text": [
      "3.113993871580549e-271\n",
      "reject null hypothesis\n"
     ]
    }
   ],
   "source": [
    "ttest,pval = stats.ttest_ind(life_lowG, life_highG)  # t-test on 2 independent samples\n",
    "print(pval)\n",
    "if pval<0.05:\n",
    "    print(\"reject null hypothesis\")\n",
    "else:\n",
    "    print(\"accept null hypothesis\")"
   ]
  },
  {
   "cell_type": "markdown",
   "metadata": {},
   "source": [
    "- Life expectancy at birth when compared for samples with GDP <9.46 and >9.46 rejects null hypothesis. It means Life expectancy at birth vary significantly for countries with lower GDP than higher."
   ]
  },
  {
   "cell_type": "markdown",
   "metadata": {},
   "source": [
    "#### Freedom to make life choices and GDP T - test"
   ]
  },
  {
   "cell_type": "code",
   "execution_count": 54,
   "metadata": {},
   "outputs": [
    {
     "data": {
      "text/plain": [
       "(930, 929)"
      ]
     },
     "execution_count": 54,
     "metadata": {},
     "output_type": "execute_result"
    }
   ],
   "source": [
    "free_lowG = data[data[\"Logged GDP per capita\"]<9.46000][\"Freedom to make life choices\"]\n",
    "free_highG = data[data[\"Logged GDP per capita\"]>9.46000][\"Freedom to make life choices\"]\n",
    "len(free_lowG) , len(free_highG)"
   ]
  },
  {
   "cell_type": "code",
   "execution_count": 55,
   "metadata": {},
   "outputs": [
    {
     "name": "stdout",
     "output_type": "stream",
     "text": [
      "5.301739118068363e-34\n",
      "reject null hypothesis\n"
     ]
    }
   ],
   "source": [
    "ttest,pval = stats.ttest_ind(free_lowG, free_highG)  # t-test on 2 independent samples\n",
    "print(pval)\n",
    "if pval<0.05:\n",
    "    print(\"reject null hypothesis\")\n",
    "else:\n",
    "    print(\"accept null hypothesis\")"
   ]
  },
  {
   "cell_type": "markdown",
   "metadata": {},
   "source": [
    "- Freedom to make life choices when compared for samples with GDP <9.46 and >9.46 rejects null hypothesis. It means Freedom to make life choices vary significantly for countries with lower GDP than higher."
   ]
  },
  {
   "cell_type": "markdown",
   "metadata": {},
   "source": [
    "#### Social support and GDP T - test"
   ]
  },
  {
   "cell_type": "code",
   "execution_count": 57,
   "metadata": {},
   "outputs": [
    {
     "data": {
      "text/plain": [
       "(930, 929)"
      ]
     },
     "execution_count": 57,
     "metadata": {},
     "output_type": "execute_result"
    }
   ],
   "source": [
    "social_lowG = data[data[\"Logged GDP per capita\"]<9.46000][\"Social support\"]\n",
    "social_highG = data[data[\"Logged GDP per capita\"]>9.46000][\"Social support\"]\n",
    "len(social_lowG) , len(social_highG)"
   ]
  },
  {
   "cell_type": "code",
   "execution_count": 58,
   "metadata": {},
   "outputs": [
    {
     "name": "stdout",
     "output_type": "stream",
     "text": [
      "3.0434786627802876e-177\n",
      "reject null hypothesis\n"
     ]
    }
   ],
   "source": [
    "ttest,pval = stats.ttest_ind(social_lowG, social_highG)  # t-test on 2 independent samples\n",
    "print(pval)\n",
    "if pval<0.05:\n",
    "    print(\"reject null hypothesis\")\n",
    "else:\n",
    "    print(\"accept null hypothesis\")"
   ]
  },
  {
   "cell_type": "markdown",
   "metadata": {},
   "source": [
    "- Social support when compared for samples with GDP <9.46 and >9.46 rejects null hypothesis. It means Social support vary significantly for countries with lower GDP than higher GDP values."
   ]
  },
  {
   "cell_type": "markdown",
   "metadata": {},
   "source": [
    "#### Perceptions of Corruption and GDP T-Test"
   ]
  },
  {
   "cell_type": "code",
   "execution_count": 59,
   "metadata": {},
   "outputs": [
    {
     "data": {
      "text/plain": [
       "(930, 929)"
      ]
     },
     "execution_count": 59,
     "metadata": {},
     "output_type": "execute_result"
    }
   ],
   "source": [
    "corruption_lowG = data[data[\"Logged GDP per capita\"]<9.46000][\"Perceptions of corruption\"]\n",
    "corruption_highG = data[data[\"Logged GDP per capita\"]>9.46000][\"Perceptions of corruption\"]\n",
    "len(corruption_lowG) , len(corruption_highG)"
   ]
  },
  {
   "cell_type": "code",
   "execution_count": 60,
   "metadata": {},
   "outputs": [
    {
     "name": "stdout",
     "output_type": "stream",
     "text": [
      "2.04190804983107e-28\n",
      "reject null hypothesis\n"
     ]
    }
   ],
   "source": [
    "ttest,pval = stats.ttest_ind(corruption_lowG, corruption_highG)  # t-test on 2 independent samples\n",
    "print(pval)\n",
    "if pval<0.05:\n",
    "    print(\"reject null hypothesis\")\n",
    "else:\n",
    "    print(\"accept null hypothesis\")"
   ]
  },
  {
   "cell_type": "markdown",
   "metadata": {},
   "source": [
    "- Social support when compared for samples with GDP <9.46 and >9.46 rejects null hypothesis. It means Social support vary significantly for countries with lower GDP than higher GDP values."
   ]
  },
  {
   "cell_type": "markdown",
   "metadata": {},
   "source": [
    "#### Generosity and GDP T-Test"
   ]
  },
  {
   "cell_type": "code",
   "execution_count": 61,
   "metadata": {},
   "outputs": [
    {
     "data": {
      "text/plain": [
       "(930, 929)"
      ]
     },
     "execution_count": 61,
     "metadata": {},
     "output_type": "execute_result"
    }
   ],
   "source": [
    "gen_lowG = data[data[\"Logged GDP per capita\"]<9.46000][\"Generosity\"]\n",
    "gen_highG = data[data[\"Logged GDP per capita\"]>9.46000][\"Generosity\"]\n",
    "len(corruption_lowG) , len(corruption_highG)"
   ]
  },
  {
   "cell_type": "code",
   "execution_count": 69,
   "metadata": {},
   "outputs": [
    {
     "name": "stdout",
     "output_type": "stream",
     "text": [
      "0.00031300883180986034\n",
      "reject null hypothesis\n"
     ]
    }
   ],
   "source": [
    "ttest,pval = stats.ttest_ind(gen_lowG, gen_highG)  # t-test on 2 independent samples\n",
    "print(pval)\n",
    "if pval<0.05:\n",
    "    print(\"reject null hypothesis\")\n",
    "else:\n",
    "    print(\"accept null hypothesis\")"
   ]
  },
  {
   "cell_type": "markdown",
   "metadata": {},
   "source": [
    "- Generosity when compared for samples with GDP <9.46 and >9.46 rejects null hypothesis. It means Generosity vary significantly for countries with lower GDP than higher GDP values."
   ]
  },
  {
   "cell_type": "markdown",
   "metadata": {},
   "source": [
    "#### - Dividing Life Expectancy at birth into 2 gategories based on median value: High (>65.200000) and Low (<65.200000) and then conducting hypothesis test for social support"
   ]
  },
  {
   "cell_type": "markdown",
   "metadata": {},
   "source": [
    "#### Healthy life expectancy at birth and Social support"
   ]
  },
  {
   "cell_type": "code",
   "execution_count": 70,
   "metadata": {},
   "outputs": [
    {
     "data": {
      "text/plain": [
       "(929, 922)"
      ]
     },
     "execution_count": 70,
     "metadata": {},
     "output_type": "execute_result"
    }
   ],
   "source": [
    "he_lowG = data[data[\"Healthy life expectancy at birth\"]<65.200000][\"Social support\"]\n",
    "he_highG = data[data[\"Healthy life expectancy at birth\"]>65.200000][\"Social support\"]\n",
    "len(he_lowG) , len(he_highG)"
   ]
  },
  {
   "cell_type": "code",
   "execution_count": 71,
   "metadata": {},
   "outputs": [
    {
     "name": "stdout",
     "output_type": "stream",
     "text": [
      "1.0550085041287594e-142\n",
      "reject null hypothesis\n"
     ]
    }
   ],
   "source": [
    "ttest,pval = stats.ttest_ind(he_lowG, he_highG)  # t-test on 2 independent samples\n",
    "print(pval)\n",
    "if pval<0.05:\n",
    "    print(\"reject null hypothesis\")\n",
    "else:\n",
    "    print(\"accept null hypothesis\")"
   ]
  },
  {
   "cell_type": "markdown",
   "metadata": {},
   "source": [
    "- Social support when compared for samples with Healthy life expectancy at birth < 65.2 and >65.2 rejects null hypothesis. It means Social support vary significantly for countries with lower Healthy life expectancy at birth than higher values."
   ]
  },
  {
   "cell_type": "markdown",
   "metadata": {},
   "source": [
    "# Anova\n",
    "\n",
    "- Will conduct ANOVA test by diving ladder score into 3 groups : <=3, 3-6, >6\n",
    "- Then I will compare the samples based on this division for all the parameters"
   ]
  },
  {
   "cell_type": "code",
   "execution_count": 76,
   "metadata": {},
   "outputs": [],
   "source": [
    "grp1 = data[data[\"Ladder score\"] <= 3]\n",
    "grp2 = data[(data[\"Ladder score\"] > 3) | (data[\"Ladder score\"] <= 6)]\n",
    "grp3 = data[data[\"Ladder score\"] >6]"
   ]
  },
  {
   "cell_type": "code",
   "execution_count": 77,
   "metadata": {},
   "outputs": [
    {
     "data": {
      "text/plain": [
       "(15, 1861, 592)"
      ]
     },
     "execution_count": 77,
     "metadata": {},
     "output_type": "execute_result"
    }
   ],
   "source": [
    "len(grp1), len(grp2), len(grp3)"
   ]
  },
  {
   "cell_type": "markdown",
   "metadata": {},
   "source": [
    "#### Social support "
   ]
  },
  {
   "cell_type": "code",
   "execution_count": 79,
   "metadata": {},
   "outputs": [
    {
     "name": "stdout",
     "output_type": "stream",
     "text": [
      "p-value for significance is:  2.8664989236501846e-100\n",
      "reject null hypothesis\n"
     ]
    }
   ],
   "source": [
    "F, p = stats.f_oneway(grp1[\"Social support\"], grp2[\"Social support\"], grp3[\"Social support\"])\n",
    "\n",
    "print(\"p-value for significance is: \", p)\n",
    "\n",
    "if p<0.05:\n",
    "    print(\"reject null hypothesis\")\n",
    "else:\n",
    "    print(\"accept null hypothesis\")"
   ]
  },
  {
   "cell_type": "markdown",
   "metadata": {},
   "source": [
    "- Social support scores for countries falling in different ladder score groups vary significantly"
   ]
  },
  {
   "cell_type": "markdown",
   "metadata": {},
   "source": [
    "#### Generosity"
   ]
  },
  {
   "cell_type": "code",
   "execution_count": 81,
   "metadata": {},
   "outputs": [
    {
     "name": "stdout",
     "output_type": "stream",
     "text": [
      "p-value for significance is:  1.6545367582319158e-08\n",
      "reject null hypothesis\n"
     ]
    }
   ],
   "source": [
    "F, p = stats.f_oneway(grp1[\"Generosity\"], grp2[\"Generosity\"], grp3[\"Generosity\"])\n",
    "\n",
    "print(\"p-value for significance is: \", p)\n",
    "\n",
    "if p<0.05:\n",
    "    print(\"reject null hypothesis\")\n",
    "else:\n",
    "    print(\"accept null hypothesis\")"
   ]
  },
  {
   "cell_type": "markdown",
   "metadata": {},
   "source": [
    "-  Generosity scores for countries falling in different ladder score groups vary significantly scores for countries falling in different ladder score groups vary significantly"
   ]
  },
  {
   "cell_type": "markdown",
   "metadata": {},
   "source": [
    "#### Perceptions of corruption"
   ]
  },
  {
   "cell_type": "code",
   "execution_count": 82,
   "metadata": {},
   "outputs": [
    {
     "name": "stdout",
     "output_type": "stream",
     "text": [
      "p-value for significance is:  3.1073465341901075e-39\n",
      "reject null hypothesis\n"
     ]
    }
   ],
   "source": [
    "F, p = stats.f_oneway(grp1[\"Perceptions of corruption\"], grp2[\"Perceptions of corruption\"], grp3[\"Perceptions of corruption\"])\n",
    "\n",
    "print(\"p-value for significance is: \", p)\n",
    "\n",
    "if p<0.05:\n",
    "    print(\"reject null hypothesis\")\n",
    "else:\n",
    "    print(\"accept null hypothesis\")"
   ]
  },
  {
   "cell_type": "markdown",
   "metadata": {},
   "source": [
    "- Perceptions of corruption for countries falling in different ladder score groups vary significantly scores for countries falling in different ladder score groups vary significantly"
   ]
  },
  {
   "cell_type": "markdown",
   "metadata": {},
   "source": [
    "#### Logged GDP per capita"
   ]
  },
  {
   "cell_type": "code",
   "execution_count": 83,
   "metadata": {},
   "outputs": [
    {
     "name": "stdout",
     "output_type": "stream",
     "text": [
      "p-value for significance is:  5.070657220580271e-103\n",
      "reject null hypothesis\n"
     ]
    }
   ],
   "source": [
    "F, p = stats.f_oneway(grp1[\"Logged GDP per capita\"], grp2[\"Logged GDP per capita\"], grp3[\"Logged GDP per capita\"])\n",
    "\n",
    "print(\"p-value for significance is: \", p)\n",
    "\n",
    "if p<0.05:\n",
    "    print(\"reject null hypothesis\")\n",
    "else:\n",
    "    print(\"accept null hypothesis\")"
   ]
  },
  {
   "cell_type": "markdown",
   "metadata": {},
   "source": [
    "- Logged GDP per capita for countries falling in different ladder score groups vary significantly scores for countries falling in different ladder score groups vary significantly"
   ]
  },
  {
   "cell_type": "markdown",
   "metadata": {},
   "source": [
    "#### Healthy life expectancy at birth"
   ]
  },
  {
   "cell_type": "code",
   "execution_count": 84,
   "metadata": {},
   "outputs": [
    {
     "name": "stdout",
     "output_type": "stream",
     "text": [
      "p-value for significance is:  5.313061150894097e-96\n",
      "reject null hypothesis\n"
     ]
    }
   ],
   "source": [
    "F, p = stats.f_oneway(grp1[\"Healthy life expectancy at birth\"], grp2[\"Healthy life expectancy at birth\"], grp3[\"Healthy life expectancy at birth\"])\n",
    "\n",
    "print(\"p-value for significance is: \", p)\n",
    "\n",
    "if p<0.05:\n",
    "    print(\"reject null hypothesis\")\n",
    "else:\n",
    "    print(\"accept null hypothesis\")"
   ]
  },
  {
   "cell_type": "markdown",
   "metadata": {},
   "source": [
    "- Healthy life expectancy at birth for countries falling in different ladder score groups vary significantly scores for countries falling in different ladder score groups vary significantly"
   ]
  },
  {
   "cell_type": "markdown",
   "metadata": {},
   "source": [
    "#### Freedom to make life choices"
   ]
  },
  {
   "cell_type": "code",
   "execution_count": 85,
   "metadata": {},
   "outputs": [
    {
     "name": "stdout",
     "output_type": "stream",
     "text": [
      "p-value for significance is:  9.868336143992733e-62\n",
      "reject null hypothesis\n"
     ]
    }
   ],
   "source": [
    "F, p = stats.f_oneway(grp1[\"Freedom to make life choices\"], grp2[\"Freedom to make life choices\"], grp3[\"Freedom to make life choices\"])\n",
    "\n",
    "print(\"p-value for significance is: \", p)\n",
    "\n",
    "if p<0.05:\n",
    "    print(\"reject null hypothesis\")\n",
    "else:\n",
    "    print(\"accept null hypothesis\")"
   ]
  },
  {
   "cell_type": "markdown",
   "metadata": {},
   "source": [
    "- Freedom to make life choices for countries falling in different ladder score groups vary significantly scores for countries falling in different ladder score groups vary significantly"
   ]
  },
  {
   "cell_type": "markdown",
   "metadata": {},
   "source": [
    "# Chi- Square\n",
    "- Comparison of 3 groups of ladder score with the different regions that countries fall in."
   ]
  },
  {
   "cell_type": "code",
   "execution_count": 97,
   "metadata": {},
   "outputs": [
    {
     "name": "stderr",
     "output_type": "stream",
     "text": [
      "C:\\Users\\iamrr\\Anaconda3\\lib\\site-packages\\ipykernel_launcher.py:1: SettingWithCopyWarning:\n",
      "\n",
      "\n",
      "A value is trying to be set on a copy of a slice from a DataFrame.\n",
      "Try using .loc[row_indexer,col_indexer] = value instead\n",
      "\n",
      "See the caveats in the documentation: https://pandas.pydata.org/pandas-docs/stable/user_guide/indexing.html#returning-a-view-versus-a-copy\n",
      "\n",
      "C:\\Users\\iamrr\\Anaconda3\\lib\\site-packages\\ipykernel_launcher.py:3: SettingWithCopyWarning:\n",
      "\n",
      "\n",
      "A value is trying to be set on a copy of a slice from a DataFrame.\n",
      "Try using .loc[row_indexer,col_indexer] = value instead\n",
      "\n",
      "See the caveats in the documentation: https://pandas.pydata.org/pandas-docs/stable/user_guide/indexing.html#returning-a-view-versus-a-copy\n",
      "\n"
     ]
    }
   ],
   "source": [
    "grp1[\"Ladder_score_grp\"] = \"Low Ladder score\"\n",
    "grp2[\"Ladder_score_grp\"] = \"Medium Ladder score\"\n",
    "grp3[\"Ladder_score_grp\"] = \"High Ladder score\""
   ]
  },
  {
   "cell_type": "code",
   "execution_count": 101,
   "metadata": {},
   "outputs": [],
   "source": [
    "chi = pd.concat([grp1, grp2, grp3], axis =0)"
   ]
  },
  {
   "cell_type": "code",
   "execution_count": 108,
   "metadata": {},
   "outputs": [
    {
     "data": {
      "text/html": [
       "<div>\n",
       "<style scoped>\n",
       "    .dataframe tbody tr th:only-of-type {\n",
       "        vertical-align: middle;\n",
       "    }\n",
       "\n",
       "    .dataframe tbody tr th {\n",
       "        vertical-align: top;\n",
       "    }\n",
       "\n",
       "    .dataframe thead th {\n",
       "        text-align: right;\n",
       "    }\n",
       "</style>\n",
       "<table border=\"1\" class=\"dataframe\">\n",
       "  <thead>\n",
       "    <tr style=\"text-align: right;\">\n",
       "      <th>Regional indicator</th>\n",
       "      <th>Central and Eastern Europe</th>\n",
       "      <th>Commonwealth of Independent States</th>\n",
       "      <th>East Asia</th>\n",
       "      <th>Latin America and Caribbean</th>\n",
       "      <th>Middle East and North Africa</th>\n",
       "      <th>North America and ANZ</th>\n",
       "      <th>Not Specified</th>\n",
       "      <th>South Asia</th>\n",
       "      <th>Southeast Asia</th>\n",
       "      <th>Sub-Saharan Africa</th>\n",
       "      <th>Western Europe</th>\n",
       "    </tr>\n",
       "    <tr>\n",
       "      <th>Ladder_score_grp</th>\n",
       "      <th></th>\n",
       "      <th></th>\n",
       "      <th></th>\n",
       "      <th></th>\n",
       "      <th></th>\n",
       "      <th></th>\n",
       "      <th></th>\n",
       "      <th></th>\n",
       "      <th></th>\n",
       "      <th></th>\n",
       "      <th></th>\n",
       "    </tr>\n",
       "  </thead>\n",
       "  <tbody>\n",
       "    <tr>\n",
       "      <th>High Ladder score</th>\n",
       "      <td>60</td>\n",
       "      <td>13</td>\n",
       "      <td>10</td>\n",
       "      <td>154</td>\n",
       "      <td>27</td>\n",
       "      <td>58</td>\n",
       "      <td>7</td>\n",
       "      <td>0</td>\n",
       "      <td>26</td>\n",
       "      <td>4</td>\n",
       "      <td>233</td>\n",
       "    </tr>\n",
       "    <tr>\n",
       "      <th>Low Ladder score</th>\n",
       "      <td>0</td>\n",
       "      <td>0</td>\n",
       "      <td>0</td>\n",
       "      <td>0</td>\n",
       "      <td>1</td>\n",
       "      <td>0</td>\n",
       "      <td>2</td>\n",
       "      <td>4</td>\n",
       "      <td>0</td>\n",
       "      <td>8</td>\n",
       "      <td>0</td>\n",
       "    </tr>\n",
       "    <tr>\n",
       "      <th>Medium Ladder score</th>\n",
       "      <td>224</td>\n",
       "      <td>165</td>\n",
       "      <td>49</td>\n",
       "      <td>292</td>\n",
       "      <td>138</td>\n",
       "      <td>58</td>\n",
       "      <td>45</td>\n",
       "      <td>87</td>\n",
       "      <td>116</td>\n",
       "      <td>421</td>\n",
       "      <td>266</td>\n",
       "    </tr>\n",
       "  </tbody>\n",
       "</table>\n",
       "</div>"
      ],
      "text/plain": [
       "Regional indicator   Central and Eastern Europe  \\\n",
       "Ladder_score_grp                                  \n",
       "High Ladder score                            60   \n",
       "Low Ladder score                              0   \n",
       "Medium Ladder score                         224   \n",
       "\n",
       "Regional indicator   Commonwealth of Independent States  East Asia  \\\n",
       "Ladder_score_grp                                                     \n",
       "High Ladder score                                    13         10   \n",
       "Low Ladder score                                      0          0   \n",
       "Medium Ladder score                                 165         49   \n",
       "\n",
       "Regional indicator   Latin America and Caribbean  \\\n",
       "Ladder_score_grp                                   \n",
       "High Ladder score                            154   \n",
       "Low Ladder score                               0   \n",
       "Medium Ladder score                          292   \n",
       "\n",
       "Regional indicator   Middle East and North Africa  North America and ANZ  \\\n",
       "Ladder_score_grp                                                           \n",
       "High Ladder score                              27                     58   \n",
       "Low Ladder score                                1                      0   \n",
       "Medium Ladder score                           138                     58   \n",
       "\n",
       "Regional indicator   Not Specified  South Asia  Southeast Asia  \\\n",
       "Ladder_score_grp                                                 \n",
       "High Ladder score                7           0              26   \n",
       "Low Ladder score                 2           4               0   \n",
       "Medium Ladder score             45          87             116   \n",
       "\n",
       "Regional indicator   Sub-Saharan Africa  Western Europe  \n",
       "Ladder_score_grp                                         \n",
       "High Ladder score                     4             233  \n",
       "Low Ladder score                      8               0  \n",
       "Medium Ladder score                 421             266  "
      ]
     },
     "execution_count": 108,
     "metadata": {},
     "output_type": "execute_result"
    }
   ],
   "source": [
    "contingency_table = pd.crosstab(chi[\"Ladder_score_grp\"], chi[\"Regional indicator\"])\n",
    "contingency_table"
   ]
  },
  {
   "cell_type": "code",
   "execution_count": 111,
   "metadata": {},
   "outputs": [
    {
     "data": {
      "text/plain": [
       "array([[ 60,  13,  10, 154,  27,  58,   7,   0,  26,   4, 233],\n",
       "       [  0,   0,   0,   0,   1,   0,   2,   4,   0,   8,   0],\n",
       "       [224, 165,  49, 292, 138,  58,  45,  87, 116, 421, 266]],\n",
       "      dtype=int64)"
      ]
     },
     "execution_count": 111,
     "metadata": {},
     "output_type": "execute_result"
    }
   ],
   "source": [
    "Observed_Values = contingency_table.values \n",
    "Observed_Values"
   ]
  },
  {
   "cell_type": "code",
   "execution_count": 113,
   "metadata": {},
   "outputs": [
    {
     "data": {
      "text/plain": [
       "array([[6.81231767e+01, 4.26969206e+01, 1.41523501e+01, 1.06982172e+02,\n",
       "        3.98184765e+01, 2.78249595e+01, 1.29529984e+01, 2.18282010e+01,\n",
       "        3.40615883e+01, 1.03863857e+02, 1.19695300e+02],\n",
       "       [1.72609400e+00, 1.08184765e+00, 3.58589951e-01, 2.71069692e+00,\n",
       "        1.00891410e+00, 7.05024311e-01, 3.28200972e-01, 5.53079417e-01,\n",
       "        8.63047002e-01, 2.63168558e+00, 3.03282010e+00],\n",
       "       [2.14150729e+02, 1.34221232e+02, 4.44890600e+01, 3.36307131e+02,\n",
       "        1.25172609e+02, 8.74700162e+01, 4.07188006e+01, 6.86187196e+01,\n",
       "        1.07075365e+02, 3.26504457e+02, 3.76271880e+02]])"
      ]
     },
     "execution_count": 113,
     "metadata": {},
     "output_type": "execute_result"
    }
   ],
   "source": [
    "b=stats.chi2_contingency(contingency_table)\n",
    "Expected_Values = b[3]\n",
    "Expected_Values"
   ]
  },
  {
   "cell_type": "code",
   "execution_count": 118,
   "metadata": {},
   "outputs": [
    {
     "name": "stdout",
     "output_type": "stream",
     "text": [
      "Rows :3\n",
      "Columns :11\n",
      "Degree of Freedom:- 20\n"
     ]
    }
   ],
   "source": [
    "no_of_rows = len(contingency_table.iloc[:,0])\n",
    "print(\"Rows :\" + str(no_of_rows))\n",
    "no_of_columns = len(contingency_table.iloc[0,:])\n",
    "print(\"Columns :\" + str(no_of_columns))\n",
    "df11 = (no_of_rows-1)*(no_of_columns-1)\n",
    "print(\"Degree of Freedom:-\",df11)\n",
    "alpha = 0.05"
   ]
  },
  {
   "cell_type": "code",
   "execution_count": 119,
   "metadata": {},
   "outputs": [
    {
     "name": "stdout",
     "output_type": "stream",
     "text": [
      "chi-square statistic:- 31.942604282067535\n"
     ]
    }
   ],
   "source": [
    "from scipy.stats import chi2\n",
    "chi_square=sum([(o-e)**2./e for o,e in zip(Observed_Values,Expected_Values)])\n",
    "chi_square_statistic=chi_square[0]+chi_square[1]\n",
    "print(\"chi-square statistic:-\",chi_square_statistic)"
   ]
  },
  {
   "cell_type": "code",
   "execution_count": 120,
   "metadata": {},
   "outputs": [
    {
     "name": "stdout",
     "output_type": "stream",
     "text": [
      "critical_value: 31.410432844230918\n"
     ]
    }
   ],
   "source": [
    "critical_value=chi2.ppf(q=1-alpha,df=df11)\n",
    "print('critical_value:',critical_value)"
   ]
  },
  {
   "cell_type": "code",
   "execution_count": 122,
   "metadata": {},
   "outputs": [
    {
     "name": "stdout",
     "output_type": "stream",
     "text": [
      "p-value: 0.0439137502423842\n"
     ]
    }
   ],
   "source": [
    "#p-value\n",
    "p_value=1-chi2.cdf(x=chi_square_statistic,df=df11)\n",
    "print('p-value:',p_value)"
   ]
  },
  {
   "cell_type": "code",
   "execution_count": 123,
   "metadata": {},
   "outputs": [
    {
     "name": "stdout",
     "output_type": "stream",
     "text": [
      "Reject H0,There is a relationship between 2 categorical variables\n",
      "Reject H0,There is a relationship between 2 categorical variables\n"
     ]
    }
   ],
   "source": [
    "if chi_square_statistic>=critical_value:\n",
    "    print(\"Reject H0,There is a relationship between 2 categorical variables\")\n",
    "else:\n",
    "    print(\"Retain H0,There is no relationship between 2 categorical variables\")\n",
    "    \n",
    "if p_value<=alpha:\n",
    "    print(\"Reject H0,There is a relationship between 2 categorical variables\")\n",
    "else:\n",
    "    print(\"Retain H0,There is no relationship between 2 categorical variables\")"
   ]
  },
  {
   "cell_type": "markdown",
   "metadata": {},
   "source": [
    "# Regression Analysis"
   ]
  },
  {
   "cell_type": "code",
   "execution_count": 5,
   "metadata": {},
   "outputs": [],
   "source": [
    "import statsmodels.api as sm"
   ]
  },
  {
   "cell_type": "code",
   "execution_count": 4,
   "metadata": {},
   "outputs": [
    {
     "name": "stdout",
     "output_type": "stream",
     "text": [
      "<class 'pandas.core.frame.DataFrame'>\n",
      "RangeIndex: 1861 entries, 0 to 1860\n",
      "Data columns (total 10 columns):\n",
      " #   Column                            Non-Null Count  Dtype  \n",
      "---  ------                            --------------  -----  \n",
      " 0   Country name                      1861 non-null   object \n",
      " 1   year                              1861 non-null   int64  \n",
      " 2   Ladder score                      1861 non-null   float64\n",
      " 3   Logged GDP per capita             1861 non-null   float64\n",
      " 4   Social support                    1861 non-null   float64\n",
      " 5   Healthy life expectancy at birth  1861 non-null   float64\n",
      " 6   Freedom to make life choices      1861 non-null   float64\n",
      " 7   Generosity                        1861 non-null   float64\n",
      " 8   Perceptions of corruption         1861 non-null   float64\n",
      " 9   Regional indicator                1861 non-null   object \n",
      "dtypes: float64(7), int64(1), object(2)\n",
      "memory usage: 145.5+ KB\n"
     ]
    }
   ],
   "source": [
    "data.info()"
   ]
  },
  {
   "cell_type": "code",
   "execution_count": 5,
   "metadata": {},
   "outputs": [
    {
     "data": {
      "text/html": [
       "<div>\n",
       "<style scoped>\n",
       "    .dataframe tbody tr th:only-of-type {\n",
       "        vertical-align: middle;\n",
       "    }\n",
       "\n",
       "    .dataframe tbody tr th {\n",
       "        vertical-align: top;\n",
       "    }\n",
       "\n",
       "    .dataframe thead th {\n",
       "        text-align: right;\n",
       "    }\n",
       "</style>\n",
       "<table border=\"1\" class=\"dataframe\">\n",
       "  <thead>\n",
       "    <tr style=\"text-align: right;\">\n",
       "      <th></th>\n",
       "      <th>Country name</th>\n",
       "      <th>year</th>\n",
       "      <th>Ladder score</th>\n",
       "      <th>Logged GDP per capita</th>\n",
       "      <th>Social support</th>\n",
       "      <th>Healthy life expectancy at birth</th>\n",
       "      <th>Freedom to make life choices</th>\n",
       "      <th>Generosity</th>\n",
       "      <th>Perceptions of corruption</th>\n",
       "      <th>Regional indicator</th>\n",
       "    </tr>\n",
       "  </thead>\n",
       "  <tbody>\n",
       "    <tr>\n",
       "      <th>0</th>\n",
       "      <td>Afghanistan</td>\n",
       "      <td>2008</td>\n",
       "      <td>3.724</td>\n",
       "      <td>7.370</td>\n",
       "      <td>0.451</td>\n",
       "      <td>50.80</td>\n",
       "      <td>0.718</td>\n",
       "      <td>0.168</td>\n",
       "      <td>0.882</td>\n",
       "      <td>South Asia</td>\n",
       "    </tr>\n",
       "    <tr>\n",
       "      <th>1</th>\n",
       "      <td>Afghanistan</td>\n",
       "      <td>2009</td>\n",
       "      <td>4.402</td>\n",
       "      <td>7.540</td>\n",
       "      <td>0.552</td>\n",
       "      <td>51.20</td>\n",
       "      <td>0.679</td>\n",
       "      <td>0.190</td>\n",
       "      <td>0.850</td>\n",
       "      <td>South Asia</td>\n",
       "    </tr>\n",
       "    <tr>\n",
       "      <th>2</th>\n",
       "      <td>Afghanistan</td>\n",
       "      <td>2010</td>\n",
       "      <td>4.758</td>\n",
       "      <td>7.647</td>\n",
       "      <td>0.539</td>\n",
       "      <td>51.60</td>\n",
       "      <td>0.600</td>\n",
       "      <td>0.121</td>\n",
       "      <td>0.707</td>\n",
       "      <td>South Asia</td>\n",
       "    </tr>\n",
       "    <tr>\n",
       "      <th>3</th>\n",
       "      <td>Afghanistan</td>\n",
       "      <td>2011</td>\n",
       "      <td>3.832</td>\n",
       "      <td>7.620</td>\n",
       "      <td>0.521</td>\n",
       "      <td>51.92</td>\n",
       "      <td>0.496</td>\n",
       "      <td>0.162</td>\n",
       "      <td>0.731</td>\n",
       "      <td>South Asia</td>\n",
       "    </tr>\n",
       "    <tr>\n",
       "      <th>4</th>\n",
       "      <td>Afghanistan</td>\n",
       "      <td>2012</td>\n",
       "      <td>3.783</td>\n",
       "      <td>7.705</td>\n",
       "      <td>0.521</td>\n",
       "      <td>52.24</td>\n",
       "      <td>0.531</td>\n",
       "      <td>0.236</td>\n",
       "      <td>0.776</td>\n",
       "      <td>South Asia</td>\n",
       "    </tr>\n",
       "  </tbody>\n",
       "</table>\n",
       "</div>"
      ],
      "text/plain": [
       "  Country name  year  Ladder score  Logged GDP per capita  Social support  \\\n",
       "0  Afghanistan  2008         3.724                  7.370           0.451   \n",
       "1  Afghanistan  2009         4.402                  7.540           0.552   \n",
       "2  Afghanistan  2010         4.758                  7.647           0.539   \n",
       "3  Afghanistan  2011         3.832                  7.620           0.521   \n",
       "4  Afghanistan  2012         3.783                  7.705           0.521   \n",
       "\n",
       "   Healthy life expectancy at birth  Freedom to make life choices  Generosity  \\\n",
       "0                             50.80                         0.718       0.168   \n",
       "1                             51.20                         0.679       0.190   \n",
       "2                             51.60                         0.600       0.121   \n",
       "3                             51.92                         0.496       0.162   \n",
       "4                             52.24                         0.531       0.236   \n",
       "\n",
       "   Perceptions of corruption Regional indicator  \n",
       "0                      0.882         South Asia  \n",
       "1                      0.850         South Asia  \n",
       "2                      0.707         South Asia  \n",
       "3                      0.731         South Asia  \n",
       "4                      0.776         South Asia  "
      ]
     },
     "execution_count": 5,
     "metadata": {},
     "output_type": "execute_result"
    }
   ],
   "source": [
    "data.head()"
   ]
  },
  {
   "cell_type": "markdown",
   "metadata": {},
   "source": [
    "##  Simple linear regression taking GDP as response and social support as predictor to check the relation"
   ]
  },
  {
   "cell_type": "code",
   "execution_count": 11,
   "metadata": {},
   "outputs": [],
   "source": [
    "# X = data[[\"Ladder score\", \"Social support\", \"Healthy life expectancy at birth\"]]\n",
    "X= data[\"Social support\"]\n",
    "y = data[\"Logged GDP per capita\"]"
   ]
  },
  {
   "cell_type": "code",
   "execution_count": 12,
   "metadata": {},
   "outputs": [],
   "source": [
    "model = sm.OLS(y, X).fit()"
   ]
  },
  {
   "cell_type": "code",
   "execution_count": 13,
   "metadata": {},
   "outputs": [
    {
     "data": {
      "text/html": [
       "<table class=\"simpletable\">\n",
       "<caption>OLS Regression Results</caption>\n",
       "<tr>\n",
       "  <th>Dep. Variable:</th>    <td>Logged GDP per capita</td> <th>  R-squared (uncentered):</th>      <td>   0.989</td> \n",
       "</tr>\n",
       "<tr>\n",
       "  <th>Model:</th>                     <td>OLS</td>          <th>  Adj. R-squared (uncentered):</th> <td>   0.989</td> \n",
       "</tr>\n",
       "<tr>\n",
       "  <th>Method:</th>               <td>Least Squares</td>     <th>  F-statistic:       </th>          <td>1.663e+05</td>\n",
       "</tr>\n",
       "<tr>\n",
       "  <th>Date:</th>               <td>Thu, 08 Jul 2021</td>    <th>  Prob (F-statistic):</th>           <td>  0.00</td>  \n",
       "</tr>\n",
       "<tr>\n",
       "  <th>Time:</th>                   <td>20:55:47</td>        <th>  Log-Likelihood:    </th>          <td> -2619.6</td> \n",
       "</tr>\n",
       "<tr>\n",
       "  <th>No. Observations:</th>        <td>  1861</td>         <th>  AIC:               </th>          <td>   5241.</td> \n",
       "</tr>\n",
       "<tr>\n",
       "  <th>Df Residuals:</th>            <td>  1860</td>         <th>  BIC:               </th>          <td>   5247.</td> \n",
       "</tr>\n",
       "<tr>\n",
       "  <th>Df Model:</th>                <td>     1</td>         <th>                     </th>              <td> </td>    \n",
       "</tr>\n",
       "<tr>\n",
       "  <th>Covariance Type:</th>        <td>nonrobust</td>       <th>                     </th>              <td> </td>    \n",
       "</tr>\n",
       "</table>\n",
       "<table class=\"simpletable\">\n",
       "<tr>\n",
       "         <td></td>           <th>coef</th>     <th>std err</th>      <th>t</th>      <th>P>|t|</th>  <th>[0.025</th>    <th>0.975]</th>  \n",
       "</tr>\n",
       "<tr>\n",
       "  <th>Social support</th> <td>   11.4071</td> <td>    0.028</td> <td>  407.751</td> <td> 0.000</td> <td>   11.352</td> <td>   11.462</td>\n",
       "</tr>\n",
       "</table>\n",
       "<table class=\"simpletable\">\n",
       "<tr>\n",
       "  <th>Omnibus:</th>       <td>100.076</td> <th>  Durbin-Watson:     </th> <td>   0.573</td>\n",
       "</tr>\n",
       "<tr>\n",
       "  <th>Prob(Omnibus):</th> <td> 0.000</td>  <th>  Jarque-Bera (JB):  </th> <td> 150.540</td>\n",
       "</tr>\n",
       "<tr>\n",
       "  <th>Skew:</th>          <td> 0.459</td>  <th>  Prob(JB):          </th> <td>2.05e-33</td>\n",
       "</tr>\n",
       "<tr>\n",
       "  <th>Kurtosis:</th>      <td> 4.049</td>  <th>  Cond. No.          </th> <td>    1.00</td>\n",
       "</tr>\n",
       "</table><br/><br/>Warnings:<br/>[1] Standard Errors assume that the covariance matrix of the errors is correctly specified."
      ],
      "text/plain": [
       "<class 'statsmodels.iolib.summary.Summary'>\n",
       "\"\"\"\n",
       "                                  OLS Regression Results                                  \n",
       "==========================================================================================\n",
       "Dep. Variable:     Logged GDP per capita   R-squared (uncentered):                   0.989\n",
       "Model:                               OLS   Adj. R-squared (uncentered):              0.989\n",
       "Method:                    Least Squares   F-statistic:                          1.663e+05\n",
       "Date:                   Thu, 08 Jul 2021   Prob (F-statistic):                        0.00\n",
       "Time:                           20:55:47   Log-Likelihood:                         -2619.6\n",
       "No. Observations:                   1861   AIC:                                      5241.\n",
       "Df Residuals:                       1860   BIC:                                      5247.\n",
       "Df Model:                              1                                                  \n",
       "Covariance Type:               nonrobust                                                  \n",
       "==================================================================================\n",
       "                     coef    std err          t      P>|t|      [0.025      0.975]\n",
       "----------------------------------------------------------------------------------\n",
       "Social support    11.4071      0.028    407.751      0.000      11.352      11.462\n",
       "==============================================================================\n",
       "Omnibus:                      100.076   Durbin-Watson:                   0.573\n",
       "Prob(Omnibus):                  0.000   Jarque-Bera (JB):              150.540\n",
       "Skew:                           0.459   Prob(JB):                     2.05e-33\n",
       "Kurtosis:                       4.049   Cond. No.                         1.00\n",
       "==============================================================================\n",
       "\n",
       "Warnings:\n",
       "[1] Standard Errors assume that the covariance matrix of the errors is correctly specified.\n",
       "\"\"\""
      ]
     },
     "execution_count": 13,
     "metadata": {},
     "output_type": "execute_result"
    }
   ],
   "source": [
    "model.summary()"
   ]
  },
  {
   "cell_type": "markdown",
   "metadata": {},
   "source": [
    "**- p value of F- statistic is significant. Social support itself explains 98.9% of the GDP score for the countries (Adj R sq = 0.989). P-value of social support is also significant.**"
   ]
  },
  {
   "cell_type": "markdown",
   "metadata": {},
   "source": [
    "## Multiple linear regression taking Ladder score (happiness index) as response and social support, GDP, Life expectancy, Freedom to make life choices, generosity and Perceptions of corruption as predictors to check the relation and make prediction.I am using the data till 2020 to predict the ladder scores of countries for 2021.¶"
   ]
  },
  {
   "cell_type": "code",
   "execution_count": 6,
   "metadata": {},
   "outputs": [],
   "source": [
    "data1 = data.copy()"
   ]
  },
  {
   "cell_type": "code",
   "execution_count": 7,
   "metadata": {},
   "outputs": [],
   "source": [
    "test = data1[data1.year== 2021]  # happiness index for 2021 to be predicted for countries"
   ]
  },
  {
   "cell_type": "code",
   "execution_count": 8,
   "metadata": {},
   "outputs": [],
   "source": [
    "# tTest data on which model will predict and will be evaluated\n",
    "df_test=test.drop(columns=[\"Country name\", \"year\", \"Regional indicator\"], axis=1)\n",
    "df_test_Y = df_test[\"Ladder score\"]\n",
    "df_test_X = df_test.drop(columns=[\"Ladder score\"], axis = 1)"
   ]
  },
  {
   "cell_type": "code",
   "execution_count": 9,
   "metadata": {},
   "outputs": [],
   "source": [
    "train = data1.loc[data1.year !=2021, :] # data till year 2020 taken as train data"
   ]
  },
  {
   "cell_type": "code",
   "execution_count": 10,
   "metadata": {},
   "outputs": [],
   "source": [
    "# Train Data for model building\n",
    "df_train = train.drop(columns=[\"Country name\", \"year\", \"Regional indicator\"], axis=1)"
   ]
  },
  {
   "cell_type": "code",
   "execution_count": 11,
   "metadata": {},
   "outputs": [],
   "source": [
    "df_train_Y = df_train[\"Ladder score\"]\n",
    "df_train_X = df_train.drop(columns=[\"Ladder score\"], axis = 1)"
   ]
  },
  {
   "cell_type": "code",
   "execution_count": 11,
   "metadata": {},
   "outputs": [],
   "source": [
    "model = sm.OLS(df_train_Y, df_train_X).fit()zzzzzzzzzzz"
   ]
  },
  {
   "cell_type": "code",
   "execution_count": 12,
   "metadata": {},
   "outputs": [
    {
     "name": "stdout",
     "output_type": "stream",
     "text": [
      "                                 OLS Regression Results                                \n",
      "=======================================================================================\n",
      "Dep. Variable:           Ladder score   R-squared (uncentered):                   0.989\n",
      "Model:                            OLS   Adj. R-squared (uncentered):              0.989\n",
      "Method:                 Least Squares   F-statistic:                          2.543e+04\n",
      "Date:                Mon, 12 Jul 2021   Prob (F-statistic):                        0.00\n",
      "Time:                        00:20:35   Log-Likelihood:                         -1511.0\n",
      "No. Observations:                1712   AIC:                                      3034.\n",
      "Df Residuals:                    1706   BIC:                                      3067.\n",
      "Df Model:                           6                                                  \n",
      "Covariance Type:            nonrobust                                                  \n",
      "====================================================================================================\n",
      "                                       coef    std err          t      P>|t|      [0.025      0.975]\n",
      "----------------------------------------------------------------------------------------------------\n",
      "Logged GDP per capita                0.2967      0.027     11.138      0.000       0.244       0.349\n",
      "Social support                       2.3865      0.171     13.928      0.000       2.050       2.723\n",
      "Healthy life expectancy at birth     0.0222      0.004      6.145      0.000       0.015       0.029\n",
      "Freedom to make life choices         0.5060      0.116      4.380      0.000       0.279       0.733\n",
      "Generosity                           0.6183      0.095      6.487      0.000       0.431       0.805\n",
      "Perceptions of corruption           -1.3573      0.064    -21.227      0.000      -1.483      -1.232\n",
      "==============================================================================\n",
      "Omnibus:                       48.663   Durbin-Watson:                   0.552\n",
      "Prob(Omnibus):                  0.000   Jarque-Bera (JB):               62.998\n",
      "Skew:                          -0.323   Prob(JB):                     2.09e-14\n",
      "Kurtosis:                       3.682   Cond. No.                         803.\n",
      "==============================================================================\n",
      "\n",
      "Warnings:\n",
      "[1] Standard Errors assume that the covariance matrix of the errors is correctly specified.\n"
     ]
    }
   ],
   "source": [
    "print(model.summary())"
   ]
  },
  {
   "cell_type": "markdown",
   "metadata": {},
   "source": [
    "**- p-value of F-stat is significant and based upon adjusted R^2 value, predictors are explaining 98.9% of the variation in ladder score, and each predictor is significant as well, given the p-value of t-stat for each predcitor.**"
   ]
  },
  {
   "cell_type": "markdown",
   "metadata": {},
   "source": [
    "## Conclusion"
   ]
  },
  {
   "cell_type": "markdown",
   "metadata": {},
   "source": [
    "- Based on the regression and statistical tests, we see that each of these features are significant in \n",
    "determining the happiness score of a country and are also correlated with each other. It helps to \n",
    "gain insights about the social and developmental aspects of the countries and how happy \n",
    "citizens of the countries really are and how each of these features is important in determining it.\n",
    "- The correlated factors could be studied together for better understanding and creating a \n",
    "positive impact in the future.\n"
   ]
  },
  {
   "cell_type": "code",
   "execution_count": null,
   "metadata": {},
   "outputs": [],
   "source": []
  }
 ],
 "metadata": {
  "kernelspec": {
   "display_name": "Python 3",
   "language": "python",
   "name": "python3"
  },
  "language_info": {
   "codemirror_mode": {
    "name": "ipython",
    "version": 3
   },
   "file_extension": ".py",
   "mimetype": "text/x-python",
   "name": "python",
   "nbconvert_exporter": "python",
   "pygments_lexer": "ipython3",
   "version": "3.8.5"
  }
 },
 "nbformat": 4,
 "nbformat_minor": 4
}
